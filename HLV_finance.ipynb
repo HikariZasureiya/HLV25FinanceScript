{
  "nbformat": 4,
  "nbformat_minor": 0,
  "metadata": {
    "colab": {
      "provenance": [],
      "mount_file_id": "1Tj9UAvGKC3ilGeaWqrdCohcMuivNXcGL",
      "authorship_tag": "ABX9TyNgGgSiKwho2wkyWgYPpP3a",
      "include_colab_link": true
    },
    "kernelspec": {
      "name": "python3",
      "display_name": "Python 3"
    },
    "language_info": {
      "name": "python"
    }
  },
  "cells": [
    {
      "cell_type": "markdown",
      "metadata": {
        "id": "view-in-github",
        "colab_type": "text"
      },
      "source": [
        "<a href=\"https://colab.research.google.com/github/HikariZasureiya/HLV25FinanceScript/blob/main/HLV_finance.ipynb\" target=\"_parent\"><img src=\"https://colab.research.google.com/assets/colab-badge.svg\" alt=\"Open In Colab\"/></a>"
      ]
    },
    {
      "cell_type": "code",
      "source": [
        "# !pip install --upgrade gspread\n",
        "import datetime\n",
        "# last executed\n",
        "print(\"last executed\" , datetime.datetime.now())\n"
      ],
      "metadata": {
        "id": "UgQZyPyC7VjD",
        "colab": {
          "base_uri": "https://localhost:8080/"
        },
        "outputId": "43c9997b-ef9b-4211-934d-9ac5d41b7603"
      },
      "execution_count": null,
      "outputs": [
        {
          "output_type": "stream",
          "name": "stdout",
          "text": [
            "last executed 2025-04-07 09:00:21.562848\n"
          ]
        }
      ]
    },
    {
      "cell_type": "code",
      "source": [
        "from google.colab import auth\n",
        "auth.authenticate_user()\n",
        "\n",
        "import gspread\n",
        "from google.auth import default\n",
        "creds, _ = default()\n",
        "gc = gspread.authorize(creds)"
      ],
      "metadata": {
        "id": "0nyCxVGL7qQG"
      },
      "execution_count": null,
      "outputs": []
    },
    {
      "cell_type": "code",
      "source": [
        "def check_pay_status(sheetno: int, nameworksheet, sheetname: str):\n",
        "    values = nameworksheet.get_all_values()\n",
        "\n",
        "    headers = [h.strip().upper() for h in values[0]]\n",
        "    df = pd.DataFrame(values[1:], columns=headers)\n",
        "\n",
        "\n",
        "    count = 0\n",
        "    for status in df['PAID']:\n",
        "        if str(status).strip().upper() == 'Y':\n",
        "            count += 1\n",
        "\n",
        "    print(f'Dept: {sheetname}  Paid: {count} / {len(df)}')"
      ],
      "metadata": {
        "id": "HOguZIEe7qt4"
      },
      "execution_count": 70,
      "outputs": []
    },
    {
      "cell_type": "markdown",
      "source": [],
      "metadata": {
        "id": "1-cE57yz7VCE"
      }
    },
    {
      "cell_type": "code",
      "source": [
        "def findit(rolltostream :dict ,sheetno :int , nameworksheet ,sheetname :str):\n",
        "    values = nameworksheet.get_all_values()\n",
        "    df = pd.DataFrame(values[1:], columns=values[0])\n",
        "    tylis = pd.DataFrame(df)\n",
        "    count = 0\n",
        "    try:\n",
        "      for idx, roll in enumerate(tylis['ROLL_NUMBER']):\n",
        "        try:\n",
        "          roll = str(roll).strip()\n",
        "          if pd.notna(roll) and roll in rolltostream:\n",
        "            count +=1\n",
        "            print(f\"Sheet {sheetno+1} ➜\", idx, roll)\n",
        "        except Exception as e:\n",
        "          print(e)\n",
        "          print(f'inner exception')\n",
        "    except Exception as e:\n",
        "        print(e)\n",
        "        print(f'error in sheet {sheetno} , {sheetname}')\n",
        "    # print(f'Dept: {sheetname}  Paid: {count} / {len(df)}')"
      ],
      "metadata": {
        "id": "H4d-IdtT-Df6"
      },
      "execution_count": 40,
      "outputs": []
    },
    {
      "cell_type": "code",
      "source": [
        "def writeit(rolltostream :dict ,sheetno :int , nameworksheet ,sheetname :str):\n",
        "    values = nameworksheet.get_all_values()\n",
        "    df = pd.DataFrame(values[1:], columns=values[0])\n",
        "    tylis = pd.DataFrame(df)\n",
        "\n",
        "\n",
        "    try:\n",
        "      for idx, roll in enumerate(tylis['ROLL_NUMBER']):\n",
        "        roll = str(roll).strip()\n",
        "        if pd.notna(roll) and roll in rolltostream:\n",
        "          row_num = idx+2\n",
        "          nameworksheet.update_cell(row_num, 3, 'Y')\n",
        "          nameworksheet.update_cell(row_num, 4, rolltostream[roll][1])\n",
        "\n",
        "    except Exception as e:\n",
        "        print(e)\n",
        "        print(f'error in sheet {sheetno} , {sheetname}')\n",
        "        # wb.close()"
      ],
      "metadata": {
        "id": "-DUCq8qjI7fV"
      },
      "execution_count": null,
      "outputs": []
    },
    {
      "cell_type": "code",
      "execution_count": 42,
      "metadata": {
        "colab": {
          "base_uri": "https://localhost:8080/"
        },
        "id": "PG04Qu284wyX",
        "outputId": "6e9fba3f-6dae-4f1e-937a-50821b047ad1"
      },
      "outputs": [
        {
          "output_type": "stream",
          "name": "stdout",
          "text": [
            "{'13000123103': ['CSE', 'NON-VEG'], '13000123101': ['CSE', 'NON-VEG'], '13000123117': ['CSE', 'NON-VEG'], '13000124121': ['CSE', 'NON-VEG'], '13000123124': ['CSE', 'NON-VEG'], '13000123095': ['CSE', 'NON-VEG'], '13000123067': ['CSE', 'NON-VEG'], '13000123113': ['CSE', 'NON-VEG'], '13031124051': ['CSBS', 'NON-VEG'], '13000123110': ['CSE', 'VEG'], '13000123090': ['CSE', 'NON-VEG'], '13000123105': ['CSE', 'NON-VEG'], '13000124159': ['CSE', 'VEG'], '13000123018': ['CSE', 'VEG'], '13000123052': ['CSE', 'NON-VEG'], '13000122039': ['CSE', 'NON-VEG']} 16\n"
          ]
        }
      ],
      "source": [
        "import pandas as pd\n",
        "from openpyxl import load_workbook\n",
        "\n",
        "#opens hlv'25 collection spreadsheet\n",
        "sheet = gc.open_by_url(\"https://docs.google.com/spreadsheets/d/1s-E2MnVyXGZSobcnaZ4SqJba0Tao4B2Zdoux6-vu4ZU/edit?gid=1018150263#gid=1018150263\")\n",
        "worksheet = sheet.worksheets()[0]\n",
        "data = worksheet.get_all_records()\n",
        "fin = pd.DataFrame(data)\n",
        "rolltostream ={}\n",
        "for idx , roll in enumerate(fin['University Roll No']):\n",
        "    temp = ''\n",
        "    if(fin.loc[idx , 'Food Preference'] == 'Non Veg'):\n",
        "        temp = 'NON-VEG'\n",
        "    elif(fin.loc[idx , 'Food Preference'] == 'Veg'):\n",
        "        temp = 'VEG'\n",
        "    rolltostream[str(roll)] = [str(fin.loc[idx , 'Stream']) , temp]\n",
        "\n",
        "print(rolltostream , len(rolltostream))"
      ]
    },
    {
      "cell_type": "code",
      "source": [
        "namelist = gc.open_by_url(\"https://docs.google.com/spreadsheets/d/1We74wo0hkN73b2Wa3hqtgoqnNAGFtPjls4_NiwkRGwc/edit?gid=1031123412#gid=1031123412\")\n",
        "nameworksheet = namelist.worksheets()\n",
        "sheetno = len(nameworksheet)\n",
        "\n",
        "for i in range(0,sheetno):\n",
        "  findit(rolltostream , i , nameworksheet[i] , nameworksheet[i].title)"
      ],
      "metadata": {
        "colab": {
          "base_uri": "https://localhost:8080/"
        },
        "id": "wcIQCMj5-OA5",
        "outputId": "2d06c226-ba7c-4c76-89b7-bf587e69d1aa"
      },
      "execution_count": 73,
      "outputs": [
        {
          "output_type": "stream",
          "name": "stdout",
          "text": [
            "Sheet 3 ➜ 2 13000124121\n",
            "Sheet 4 ➜ 18 13000123018\n",
            "Sheet 4 ➜ 52 13000123052\n",
            "Sheet 5 ➜ 2 13000123067\n",
            "Sheet 5 ➜ 24 13000123090\n",
            "Sheet 5 ➜ 28 13000123095\n",
            "Sheet 5 ➜ 34 13000123101\n",
            "Sheet 5 ➜ 36 13000123103\n",
            "Sheet 5 ➜ 38 13000123105\n",
            "Sheet 5 ➜ 43 13000123110\n",
            "Sheet 5 ➜ 46 13000123113\n",
            "Sheet 5 ➜ 50 13000123117\n",
            "Sheet 5 ➜ 57 13000123124\n",
            "Sheet 5 ➜ 63 13000124159\n",
            "Sheet 6 ➜ 45 13000122039\n"
          ]
        }
      ]
    },
    {
      "cell_type": "code",
      "source": [
        "# execute to modify sheet (make sure if the sheet has okay format first)\n",
        "\n",
        "for i in range(0,sheetno):\n",
        "  writeit(rolltostream , i , nameworksheet[i] , nameworksheet[i].title)"
      ],
      "metadata": {
        "id": "ABF_7Dzn61q1"
      },
      "execution_count": 74,
      "outputs": []
    },
    {
      "cell_type": "code",
      "source": [
        "#check for payment status of all depts\n",
        "\n",
        "for i in range(0,sheetno):\n",
        "  check_pay_status(i , nameworksheet[i] , nameworksheet[i].title)"
      ],
      "metadata": {
        "colab": {
          "base_uri": "https://localhost:8080/"
        },
        "id": "-dxKfDK865Ql",
        "outputId": "8acc31d0-3c5c-450a-8222-dad053a35ae1"
      },
      "execution_count": 72,
      "outputs": [
        {
          "output_type": "stream",
          "name": "stdout",
          "text": [
            "Dept: 1Y - CSE -A  Paid: 0 / 60\n",
            "Dept: 1Y - CSE - B  Paid: 0 / 60\n",
            "Dept: 1Y -CSE-C  Paid: 1 / 36\n",
            "Dept: 2Y - CSE- A  Paid: 2 / 71\n",
            "Dept: 2Y - CSE- B  Paid: 12 / 70\n",
            "Dept: 3Y - CSE - A  Paid: 3 / 70\n",
            "Dept: 3Y - CSE- B  Paid: 0 / 73\n",
            "Dept: 2Y - CSBS  Paid: 0 / 63\n",
            "Dept: 3Y - CSBS  Paid: 0 / 65\n"
          ]
        }
      ]
    }
  ]
}