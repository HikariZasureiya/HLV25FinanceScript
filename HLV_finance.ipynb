{
  "nbformat": 4,
  "nbformat_minor": 0,
  "metadata": {
    "colab": {
      "provenance": [],
      "mount_file_id": "1Tj9UAvGKC3ilGeaWqrdCohcMuivNXcGL",
      "authorship_tag": "ABX9TyOywtbcv7GzVuCGsOkRb+ZS",
      "include_colab_link": true
    },
    "kernelspec": {
      "name": "python3",
      "display_name": "Python 3"
    },
    "language_info": {
      "name": "python"
    }
  },
  "cells": [
    {
      "cell_type": "markdown",
      "metadata": {
        "id": "view-in-github",
        "colab_type": "text"
      },
      "source": [
        "<a href=\"https://colab.research.google.com/github/HikariZasureiya/HLV25FinanceScript/blob/main/HLV_finance.ipynb\" target=\"_parent\"><img src=\"https://colab.research.google.com/assets/colab-badge.svg\" alt=\"Open In Colab\"/></a>"
      ]
    },
    {
      "cell_type": "code",
      "source": [
        "# !pip install --upgrade gspread\n",
        "import datetime\n",
        "# last executed\n",
        "print(\"last executed\" , datetime.datetime.now())\n"
      ],
      "metadata": {
        "id": "UgQZyPyC7VjD",
        "colab": {
          "base_uri": "https://localhost:8080/"
        },
        "outputId": "43c9997b-ef9b-4211-934d-9ac5d41b7603"
      },
      "execution_count": null,
      "outputs": [
        {
          "output_type": "stream",
          "name": "stdout",
          "text": [
            "last executed 2025-04-07 09:00:21.562848\n"
          ]
        }
      ]
    },
    {
      "cell_type": "code",
      "source": [
        "from google.colab import auth\n",
        "auth.authenticate_user()\n",
        "\n",
        "import gspread\n",
        "from google.auth import default\n",
        "creds, _ = default()\n",
        "gc = gspread.authorize(creds)"
      ],
      "metadata": {
        "id": "0nyCxVGL7qQG"
      },
      "execution_count": null,
      "outputs": []
    },
    {
      "cell_type": "markdown",
      "source": [],
      "metadata": {
        "id": "1-cE57yz7VCE"
      }
    },
    {
      "cell_type": "code",
      "source": [
        "def findit(rolltostream :dict ,sheetno :int , nameworksheet ,sheetname :str):\n",
        "    values = nameworksheet.get_all_values()\n",
        "    df = pd.DataFrame(values[1:], columns=values[0])\n",
        "    tylis = pd.DataFrame(df)\n",
        "    try:\n",
        "      for idx, roll in enumerate(tylis['ROLL_NUMBER']):\n",
        "        roll = str(roll).strip()\n",
        "        if pd.notna(roll) and roll in rolltostream:\n",
        "          print(f\"Sheet {sheetno+1} ➜\", idx, roll)\n",
        "\n",
        "    except Exception as e:\n",
        "        print(e)\n",
        "        print(f'error in sheet {sheetno} , {sheetname}')\n"
      ],
      "metadata": {
        "id": "H4d-IdtT-Df6"
      },
      "execution_count": null,
      "outputs": []
    },
    {
      "cell_type": "code",
      "source": [
        "def writeit(rolltostream :dict ,sheetno :int , nameworksheet ,sheetname :str):\n",
        "    values = nameworksheet.get_all_values()\n",
        "    df = pd.DataFrame(values[1:], columns=values[0])\n",
        "    tylis = pd.DataFrame(df)\n",
        "\n",
        "\n",
        "    try:\n",
        "      for idx, roll in enumerate(tylis['ROLL_NUMBER']):\n",
        "        roll = str(roll).strip()\n",
        "        if pd.notna(roll) and roll in rolltostream:\n",
        "          row_num = idx+2\n",
        "          nameworksheet.update_cell(row_num, 3, 'Y')\n",
        "          nameworksheet.update_cell(row_num, 4, rolltostream[roll][1])\n",
        "\n",
        "    except Exception as e:\n",
        "        print(e)\n",
        "        print(f'error in sheet {sheetno} , {sheetname}')\n",
        "        # wb.close()"
      ],
      "metadata": {
        "id": "-DUCq8qjI7fV"
      },
      "execution_count": null,
      "outputs": []
    },
    {
      "cell_type": "code",
      "execution_count": null,
      "metadata": {
        "colab": {
          "base_uri": "https://localhost:8080/"
        },
        "id": "PG04Qu284wyX",
        "outputId": "534010e9-3bea-4e5b-ba8b-9efdeb918a61"
      },
      "outputs": [
        {
          "output_type": "stream",
          "name": "stdout",
          "text": [
            "{'13000123103': ['CSE', 'NON-VEG'], '13000123101': ['CSE', 'NON-VEG'], '13000123117': ['CSE', 'NON-VEG'], '13000124121': ['CSE', 'NON-VEG'], '13000123124': ['CSE', 'NON-VEG'], '13000123095': ['CSE', 'NON-VEG'], '13000123067': ['CSE', 'NON-VEG'], '13000123113': ['CSE', 'NON-VEG'], '13031124051': ['CSBS', 'NON-VEG'], '13000123110': ['CSE', 'VEG'], '13000123090': ['CSE', 'NON-VEG'], '13000123105': ['CSE', 'NON-VEG'], '13000124159': ['CSE', 'VEG'], '13000123018': ['CSE', 'VEG'], '13000123052': ['CSE', 'NON-VEG'], '13000122039': ['CSE', 'NON-VEG']} 16\n"
          ]
        }
      ],
      "source": [
        "import pandas as pd\n",
        "from openpyxl import load_workbook\n",
        "\n",
        "\n",
        "#opens hlv'25 collection spreadsheet\n",
        "sheet = gc.open_by_url(\"https://docs.google.com/spreadsheets/d/1s-E2MnVyXGZSobcnaZ4SqJba0Tao4B2Zdoux6-vu4ZU/edit?gid=1018150263#gid=1018150263\")\n",
        "worksheet = sheet.worksheets()[0]\n",
        "data = worksheet.get_all_records()\n",
        "fin = pd.DataFrame(data)\n",
        "\n",
        "\n",
        "\n",
        "rolltostream ={}\n",
        "\n",
        "for idx , roll in enumerate(fin['University Roll No']):\n",
        "    temp = ''\n",
        "    if(fin.loc[idx , 'Food Preference'] == 'Non Veg'):\n",
        "        temp = 'NON-VEG'\n",
        "    elif(fin.loc[idx , 'Food Preference'] == 'Veg'):\n",
        "        temp = 'VEG'\n",
        "    rolltostream[str(roll)] = [str(fin.loc[idx , 'Stream']) , temp]\n",
        "\n",
        "print(rolltostream , len(rolltostream))"
      ]
    },
    {
      "cell_type": "code",
      "source": [
        "namelist = gc.open_by_url(\"https://docs.google.com/spreadsheets/d/1We74wo0hkN73b2Wa3hqtgoqnNAGFtPjls4_NiwkRGwc/edit?gid=1031123412#gid=1031123412\")\n",
        "nameworksheet = namelist.worksheets()\n",
        "sheetno = len(nameworksheet)\n",
        "\n",
        "for i in range(0,sheetno):\n",
        "  findit(rolltostream , i , nameworksheet[i] , nameworksheet[i].title)\n",
        "\n",
        "# ''' uncomment and execute to modify sheet '''\n",
        "\n",
        "# for i in range(0,sheetno):\n",
        "#   writeit(rolltostream , i , nameworksheet[i] , nameworksheet[i].title)\n",
        "\n"
      ],
      "metadata": {
        "colab": {
          "base_uri": "https://localhost:8080/"
        },
        "id": "wcIQCMj5-OA5",
        "outputId": "dd9a76dd-0e35-484b-8dc8-5ca33721a1ae"
      },
      "execution_count": null,
      "outputs": [
        {
          "output_type": "stream",
          "name": "stdout",
          "text": [
            "Sheet 3 ➜ 2 13000124121\n",
            "Sheet 4 ➜ 17 13000123018\n",
            "Sheet 4 ➜ 51 13000123052\n",
            "Sheet 5 ➜ 17 13000123018\n",
            "Sheet 5 ➜ 50 13000123052\n",
            "Sheet 6 ➜ 45 13000122039\n"
          ]
        }
      ]
    }
  ]
}