{
  "nbformat": 4,
  "nbformat_minor": 0,
  "metadata": {
    "colab": {
      "provenance": [],
      "mount_file_id": "1Tj9UAvGKC3ilGeaWqrdCohcMuivNXcGL",
      "authorship_tag": "ABX9TyN045rkE+Dtxe7zqiAt7Hnj",
      "include_colab_link": true
    },
    "kernelspec": {
      "name": "python3",
      "display_name": "Python 3"
    },
    "language_info": {
      "name": "python"
    }
  },
  "cells": [
    {
      "cell_type": "markdown",
      "metadata": {
        "id": "view-in-github",
        "colab_type": "text"
      },
      "source": [
        "<a href=\"https://colab.research.google.com/github/HikariZasureiya/HLV25FinanceScript/blob/main/HLV_finance.ipynb\" target=\"_parent\"><img src=\"https://colab.research.google.com/assets/colab-badge.svg\" alt=\"Open In Colab\"/></a>"
      ]
    },
    {
      "cell_type": "code",
      "source": [
        "!pip install --upgrade gspread\n"
      ],
      "metadata": {
        "colab": {
          "base_uri": "https://localhost:8080/"
        },
        "id": "UgQZyPyC7VjD",
        "outputId": "1a95692b-f1cb-415a-c426-ae2d5700d9c3"
      },
      "execution_count": null,
      "outputs": [
        {
          "output_type": "stream",
          "name": "stdout",
          "text": [
            "Requirement already satisfied: gspread in /usr/local/lib/python3.11/dist-packages (6.2.0)\n",
            "Requirement already satisfied: google-auth>=1.12.0 in /usr/local/lib/python3.11/dist-packages (from gspread) (2.38.0)\n",
            "Requirement already satisfied: google-auth-oauthlib>=0.4.1 in /usr/local/lib/python3.11/dist-packages (from gspread) (1.2.1)\n",
            "Requirement already satisfied: cachetools<6.0,>=2.0.0 in /usr/local/lib/python3.11/dist-packages (from google-auth>=1.12.0->gspread) (5.5.2)\n",
            "Requirement already satisfied: pyasn1-modules>=0.2.1 in /usr/local/lib/python3.11/dist-packages (from google-auth>=1.12.0->gspread) (0.4.2)\n",
            "Requirement already satisfied: rsa<5,>=3.1.4 in /usr/local/lib/python3.11/dist-packages (from google-auth>=1.12.0->gspread) (4.9)\n",
            "Requirement already satisfied: requests-oauthlib>=0.7.0 in /usr/local/lib/python3.11/dist-packages (from google-auth-oauthlib>=0.4.1->gspread) (2.0.0)\n",
            "Requirement already satisfied: pyasn1<0.7.0,>=0.6.1 in /usr/local/lib/python3.11/dist-packages (from pyasn1-modules>=0.2.1->google-auth>=1.12.0->gspread) (0.6.1)\n",
            "Requirement already satisfied: oauthlib>=3.0.0 in /usr/local/lib/python3.11/dist-packages (from requests-oauthlib>=0.7.0->google-auth-oauthlib>=0.4.1->gspread) (3.2.2)\n",
            "Requirement already satisfied: requests>=2.0.0 in /usr/local/lib/python3.11/dist-packages (from requests-oauthlib>=0.7.0->google-auth-oauthlib>=0.4.1->gspread) (2.32.3)\n",
            "Requirement already satisfied: charset-normalizer<4,>=2 in /usr/local/lib/python3.11/dist-packages (from requests>=2.0.0->requests-oauthlib>=0.7.0->google-auth-oauthlib>=0.4.1->gspread) (3.4.1)\n",
            "Requirement already satisfied: idna<4,>=2.5 in /usr/local/lib/python3.11/dist-packages (from requests>=2.0.0->requests-oauthlib>=0.7.0->google-auth-oauthlib>=0.4.1->gspread) (3.10)\n",
            "Requirement already satisfied: urllib3<3,>=1.21.1 in /usr/local/lib/python3.11/dist-packages (from requests>=2.0.0->requests-oauthlib>=0.7.0->google-auth-oauthlib>=0.4.1->gspread) (2.3.0)\n",
            "Requirement already satisfied: certifi>=2017.4.17 in /usr/local/lib/python3.11/dist-packages (from requests>=2.0.0->requests-oauthlib>=0.7.0->google-auth-oauthlib>=0.4.1->gspread) (2025.1.31)\n"
          ]
        }
      ]
    },
    {
      "cell_type": "code",
      "source": [
        "from google.colab import auth\n",
        "auth.authenticate_user()\n",
        "\n",
        "import gspread\n",
        "from google.auth import default\n",
        "creds, _ = default()\n",
        "gc = gspread.authorize(creds)"
      ],
      "metadata": {
        "id": "0nyCxVGL7qQG"
      },
      "execution_count": 1,
      "outputs": []
    },
    {
      "cell_type": "markdown",
      "source": [],
      "metadata": {
        "id": "1-cE57yz7VCE"
      }
    },
    {
      "cell_type": "code",
      "source": [
        "def findit(rolltostream :dict ,sheetno :int , nameworksheet ,sheetname :str):\n",
        "    values = nameworksheet.get_all_values()\n",
        "    df = pd.DataFrame(values[1:], columns=values[0])\n",
        "    tylis = pd.DataFrame(df)\n",
        "    try:\n",
        "      for idx, roll in enumerate(tylis['ROLL_NUMBER']):\n",
        "        roll = str(roll).strip()\n",
        "        if pd.notna(roll) and roll in rolltostream:\n",
        "          print(f\"Sheet {sheetno+1} ➜\", idx, roll)\n",
        "\n",
        "    except Exception as e:\n",
        "        print(e)\n",
        "        print(f'error in sheet {sheetno} , {sheetname}')\n"
      ],
      "metadata": {
        "id": "H4d-IdtT-Df6"
      },
      "execution_count": 2,
      "outputs": []
    },
    {
      "cell_type": "code",
      "source": [
        "def writeit(rolltostream :dict ,sheetno :int , nameworksheet ,sheetname :str):\n",
        "    values = nameworksheet.get_all_values()\n",
        "    df = pd.DataFrame(values[1:], columns=values[0])\n",
        "    tylis = pd.DataFrame(df)\n",
        "\n",
        "\n",
        "    try:\n",
        "      for idx, roll in enumerate(tylis['ROLL_NUMBER']):\n",
        "        roll = str(roll).strip()\n",
        "        if pd.notna(roll) and roll in rolltostream:\n",
        "          row_num = idx+2\n",
        "          nameworksheet.update_cell(row_num, 3, 'Y')\n",
        "          nameworksheet.update_cell(row_num, 4, rolltostream[roll][1])\n",
        "\n",
        "    except Exception as e:\n",
        "        print(e)\n",
        "        print(f'error in sheet {sheetno} , {sheetname}')\n",
        "        # wb.close()"
      ],
      "metadata": {
        "id": "-DUCq8qjI7fV"
      },
      "execution_count": 3,
      "outputs": []
    },
    {
      "cell_type": "code",
      "execution_count": 4,
      "metadata": {
        "colab": {
          "base_uri": "https://localhost:8080/"
        },
        "id": "PG04Qu284wyX",
        "outputId": "534010e9-3bea-4e5b-ba8b-9efdeb918a61"
      },
      "outputs": [
        {
          "output_type": "stream",
          "name": "stdout",
          "text": [
            "{'13000123103': ['CSE', 'NON-VEG'], '13000123101': ['CSE', 'NON-VEG'], '13000123117': ['CSE', 'NON-VEG'], '13000124121': ['CSE', 'NON-VEG'], '13000123124': ['CSE', 'NON-VEG'], '13000123095': ['CSE', 'NON-VEG'], '13000123067': ['CSE', 'NON-VEG'], '13000123113': ['CSE', 'NON-VEG'], '13031124051': ['CSBS', 'NON-VEG'], '13000123110': ['CSE', 'VEG'], '13000123090': ['CSE', 'NON-VEG'], '13000123105': ['CSE', 'NON-VEG'], '13000124159': ['CSE', 'VEG'], '13000123018': ['CSE', 'VEG'], '13000123052': ['CSE', 'NON-VEG'], '13000122039': ['CSE', 'NON-VEG']} 16\n"
          ]
        }
      ],
      "source": [
        "import pandas as pd\n",
        "from openpyxl import load_workbook\n",
        "\n",
        "\n",
        "#opens hlv'25 collection spreadsheet\n",
        "sheet = gc.open_by_url(\"https://docs.google.com/spreadsheets/d/1s-E2MnVyXGZSobcnaZ4SqJba0Tao4B2Zdoux6-vu4ZU/edit?gid=1018150263#gid=1018150263\")\n",
        "worksheet = sheet.worksheets()[0]\n",
        "data = worksheet.get_all_records()\n",
        "fin = pd.DataFrame(data)\n",
        "\n",
        "\n",
        "\n",
        "rolltostream ={}\n",
        "\n",
        "for idx , roll in enumerate(fin['University Roll No']):\n",
        "    temp = ''\n",
        "    if(fin.loc[idx , 'Food Preference'] == 'Non Veg'):\n",
        "        temp = 'NON-VEG'\n",
        "    elif(fin.loc[idx , 'Food Preference'] == 'Veg'):\n",
        "        temp = 'VEG'\n",
        "    rolltostream[str(roll)] = [str(fin.loc[idx , 'Stream']) , temp]\n",
        "\n",
        "print(rolltostream , len(rolltostream))"
      ]
    },
    {
      "cell_type": "code",
      "source": [
        "namelist = gc.open_by_url(\"https://docs.google.com/spreadsheets/d/1We74wo0hkN73b2Wa3hqtgoqnNAGFtPjls4_NiwkRGwc/edit?gid=1031123412#gid=1031123412\")\n",
        "nameworksheet = namelist.worksheets()\n",
        "sheetno = len(nameworksheet)\n",
        "\n",
        "for i in range(0,sheetno):\n",
        "  findit(rolltostream , i , nameworksheet[i] , nameworksheet[i].title)\n",
        "\n",
        "# ''' uncomment and execute to modify sheet '''\n",
        "\n",
        "# for i in range(0,sheetno):\n",
        "#   writeit(rolltostream , i , nameworksheet[i] , nameworksheet[i].title)\n",
        "\n"
      ],
      "metadata": {
        "colab": {
          "base_uri": "https://localhost:8080/"
        },
        "id": "wcIQCMj5-OA5",
        "outputId": "dd9a76dd-0e35-484b-8dc8-5ca33721a1ae"
      },
      "execution_count": 6,
      "outputs": [
        {
          "output_type": "stream",
          "name": "stdout",
          "text": [
            "Sheet 3 ➜ 2 13000124121\n",
            "Sheet 4 ➜ 17 13000123018\n",
            "Sheet 4 ➜ 51 13000123052\n",
            "Sheet 5 ➜ 17 13000123018\n",
            "Sheet 5 ➜ 50 13000123052\n",
            "Sheet 6 ➜ 45 13000122039\n"
          ]
        }
      ]
    }
  ]
}